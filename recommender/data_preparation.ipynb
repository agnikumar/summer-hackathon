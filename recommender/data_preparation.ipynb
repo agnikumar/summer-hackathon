{
 "cells": [
  {
   "cell_type": "code",
   "execution_count": 1,
   "metadata": {},
   "outputs": [],
   "source": [
    "import pandas as pd \n",
    "import numpy as np \n",
    "import random\n",
    "\n",
    "import matplotlib.pyplot as plt # data visualization\n",
    "import seaborn as sns\n",
    "%matplotlib inline\n",
    "\n",
    "# display trick to display all columns of large dataframes\n",
    "from IPython.display import display\n",
    "pd.set_option('display.max_columns', None)\n",
    "pd.options.mode.chained_assignment = None "
   ]
  },
  {
   "cell_type": "code",
   "execution_count": 2,
   "metadata": {},
   "outputs": [],
   "source": [
    "DATA_FOLDER = 'yelp_dataset'"
   ]
  },
  {
   "cell_type": "markdown",
   "metadata": {},
   "source": [
    "### Loading business data"
   ]
  },
  {
   "cell_type": "code",
   "execution_count": 3,
   "metadata": {},
   "outputs": [
    {
     "name": "stdout",
     "output_type": "stream",
     "text": [
      "(209393, 14)\n"
     ]
    }
   ],
   "source": [
    "business_df = pd.read_json('{}/yelp_academic_dataset_business.json'.format(DATA_FOLDER), lines=True)\n",
    "print(business_df.shape)"
   ]
  },
  {
   "cell_type": "code",
   "execution_count": 4,
   "metadata": {},
   "outputs": [
    {
     "name": "stdout",
     "output_type": "stream",
     "text": [
      "(168903, 14)\n"
     ]
    }
   ],
   "source": [
    "# only keep the businesses that are still open in the dataset\n",
    "business_df = business_df[business_df['is_open']==1]\n",
    "print(business_df.shape)"
   ]
  },
  {
   "cell_type": "code",
   "execution_count": 5,
   "metadata": {},
   "outputs": [
    {
     "data": {
      "text/plain": [
       "Home Services                20653\n",
       "Home & Garden                 6328\n",
       "Home Decor                    2003\n",
       "Home Cleaning                 1288\n",
       "Home & Rental Insurance        431\n",
       "Home Inspectors                356\n",
       "Home Health Care               316\n",
       "Home Window Tinting            227\n",
       "Home Organization              194\n",
       "Home Theatre Installation      188\n",
       "Home Automation                187\n",
       "Home Staging                    84\n",
       "Home Network Installation       66\n",
       "Home Energy Auditors            39\n",
       "Home Developers                 32\n",
       "Mobile Home Parks               30\n",
       "Mobile Home Dealers             16\n",
       "Mobile Home Repair              15\n",
       "Name: categories, dtype: int64"
      ]
     },
     "execution_count": 5,
     "metadata": {},
     "output_type": "execute_result"
    }
   ],
   "source": [
    "df_explode = business_df.assign(categories = business_df.categories.str.split(', ')).explode('categories')\n",
    "#df_explode.categories.value_counts()\n",
    "df_explode[df_explode.categories.str.contains('Home ', case=False, na=False)].categories.value_counts()"
   ]
  },
  {
   "cell_type": "code",
   "execution_count": 6,
   "metadata": {},
   "outputs": [
    {
     "name": "stdout",
     "output_type": "stream",
     "text": [
      "(20653, 14)\n"
     ]
    },
    {
     "data": {
      "text/html": [
       "<div>\n",
       "<style scoped>\n",
       "    .dataframe tbody tr th:only-of-type {\n",
       "        vertical-align: middle;\n",
       "    }\n",
       "\n",
       "    .dataframe tbody tr th {\n",
       "        vertical-align: top;\n",
       "    }\n",
       "\n",
       "    .dataframe thead th {\n",
       "        text-align: right;\n",
       "    }\n",
       "</style>\n",
       "<table border=\"1\" class=\"dataframe\">\n",
       "  <thead>\n",
       "    <tr style=\"text-align: right;\">\n",
       "      <th></th>\n",
       "      <th>business_id</th>\n",
       "      <th>name</th>\n",
       "      <th>address</th>\n",
       "      <th>city</th>\n",
       "      <th>state</th>\n",
       "      <th>postal_code</th>\n",
       "      <th>latitude</th>\n",
       "      <th>longitude</th>\n",
       "      <th>stars</th>\n",
       "      <th>review_count</th>\n",
       "      <th>is_open</th>\n",
       "      <th>attributes</th>\n",
       "      <th>categories</th>\n",
       "      <th>hours</th>\n",
       "    </tr>\n",
       "  </thead>\n",
       "  <tbody>\n",
       "    <tr>\n",
       "      <th>4</th>\n",
       "      <td>51M2Kk903DFYI6gnB5I6SQ</td>\n",
       "      <td>USE MY GUY SERVICES LLC</td>\n",
       "      <td>4827 E Downing Cir</td>\n",
       "      <td>Mesa</td>\n",
       "      <td>AZ</td>\n",
       "      <td>85205</td>\n",
       "      <td>33.428065</td>\n",
       "      <td>-111.726648</td>\n",
       "      <td>4.5</td>\n",
       "      <td>26</td>\n",
       "      <td>1</td>\n",
       "      <td>{'BusinessAcceptsCreditCards': 'True', 'ByAppo...</td>\n",
       "      <td>Home Services, Plumbing, Electricians, Handyma...</td>\n",
       "      <td>{'Monday': '0:0-0:0', 'Tuesday': '9:0-16:0', '...</td>\n",
       "    </tr>\n",
       "    <tr>\n",
       "      <th>10</th>\n",
       "      <td>MbZMmwo-eL0Jnm_Yb9KJrA</td>\n",
       "      <td>Chinook Landscaping and Design</td>\n",
       "      <td></td>\n",
       "      <td>Calgary</td>\n",
       "      <td>AB</td>\n",
       "      <td>T2J 2P2</td>\n",
       "      <td>50.945960</td>\n",
       "      <td>-114.037207</td>\n",
       "      <td>5.0</td>\n",
       "      <td>3</td>\n",
       "      <td>1</td>\n",
       "      <td>None</td>\n",
       "      <td>Contractors, Landscaping, Home Services</td>\n",
       "      <td>{'Monday': '7:0-17:0', 'Tuesday': '7:0-17:0', ...</td>\n",
       "    </tr>\n",
       "    <tr>\n",
       "      <th>13</th>\n",
       "      <td>JjJs3o60uQCfctDjs45cmA</td>\n",
       "      <td>Convertabath</td>\n",
       "      <td>116 N Roosevelt Ave, Bldg B, Ste 124</td>\n",
       "      <td>Chandler</td>\n",
       "      <td>AZ</td>\n",
       "      <td>85226</td>\n",
       "      <td>33.303869</td>\n",
       "      <td>-111.951660</td>\n",
       "      <td>2.5</td>\n",
       "      <td>10</td>\n",
       "      <td>1</td>\n",
       "      <td>{'BusinessAcceptsCreditCards': 'True', 'ByAppo...</td>\n",
       "      <td>Contractors, Home Services, Local Services</td>\n",
       "      <td>{'Monday': '9:0-16:0', 'Tuesday': '9:0-16:0', ...</td>\n",
       "    </tr>\n",
       "    <tr>\n",
       "      <th>64</th>\n",
       "      <td>EjRyYGHUxlwxYY8N73vv2w</td>\n",
       "      <td>Verizon Authorized Retailer, TCC</td>\n",
       "      <td>2218 E Williams Field Rd, Ste 115</td>\n",
       "      <td>Gilbert</td>\n",
       "      <td>AZ</td>\n",
       "      <td>85295</td>\n",
       "      <td>33.309233</td>\n",
       "      <td>-111.743293</td>\n",
       "      <td>3.0</td>\n",
       "      <td>7</td>\n",
       "      <td>1</td>\n",
       "      <td>{'BusinessParking': '{'garage': False, 'street...</td>\n",
       "      <td>Mobile Phones, Internet Service Providers, Mob...</td>\n",
       "      <td>{'Monday': '10:0-21:0', 'Tuesday': '10:0-21:0'...</td>\n",
       "    </tr>\n",
       "    <tr>\n",
       "      <th>72</th>\n",
       "      <td>Ar7b3_R0OBrSIbRmGvhWwg</td>\n",
       "      <td>Garage Experts of Charlotte</td>\n",
       "      <td></td>\n",
       "      <td>Charlotte</td>\n",
       "      <td>NC</td>\n",
       "      <td>28202</td>\n",
       "      <td>35.232678</td>\n",
       "      <td>-80.846082</td>\n",
       "      <td>3.5</td>\n",
       "      <td>3</td>\n",
       "      <td>1</td>\n",
       "      <td>{'BusinessAcceptsCreditCards': 'True'}</td>\n",
       "      <td>Cabinetry, Home Services, Flooring, Self Stora...</td>\n",
       "      <td>{'Monday': '8:0-18:0', 'Tuesday': '8:0-18:0', ...</td>\n",
       "    </tr>\n",
       "  </tbody>\n",
       "</table>\n",
       "</div>"
      ],
      "text/plain": [
       "               business_id                              name  \\\n",
       "4   51M2Kk903DFYI6gnB5I6SQ           USE MY GUY SERVICES LLC   \n",
       "10  MbZMmwo-eL0Jnm_Yb9KJrA    Chinook Landscaping and Design   \n",
       "13  JjJs3o60uQCfctDjs45cmA                      Convertabath   \n",
       "64  EjRyYGHUxlwxYY8N73vv2w  Verizon Authorized Retailer, TCC   \n",
       "72  Ar7b3_R0OBrSIbRmGvhWwg       Garage Experts of Charlotte   \n",
       "\n",
       "                                 address       city state postal_code  \\\n",
       "4                     4827 E Downing Cir       Mesa    AZ       85205   \n",
       "10                                          Calgary    AB     T2J 2P2   \n",
       "13  116 N Roosevelt Ave, Bldg B, Ste 124   Chandler    AZ       85226   \n",
       "64     2218 E Williams Field Rd, Ste 115    Gilbert    AZ       85295   \n",
       "72                                        Charlotte    NC       28202   \n",
       "\n",
       "     latitude   longitude  stars  review_count  is_open  \\\n",
       "4   33.428065 -111.726648    4.5            26        1   \n",
       "10  50.945960 -114.037207    5.0             3        1   \n",
       "13  33.303869 -111.951660    2.5            10        1   \n",
       "64  33.309233 -111.743293    3.0             7        1   \n",
       "72  35.232678  -80.846082    3.5             3        1   \n",
       "\n",
       "                                           attributes  \\\n",
       "4   {'BusinessAcceptsCreditCards': 'True', 'ByAppo...   \n",
       "10                                               None   \n",
       "13  {'BusinessAcceptsCreditCards': 'True', 'ByAppo...   \n",
       "64  {'BusinessParking': '{'garage': False, 'street...   \n",
       "72             {'BusinessAcceptsCreditCards': 'True'}   \n",
       "\n",
       "                                           categories  \\\n",
       "4   Home Services, Plumbing, Electricians, Handyma...   \n",
       "10            Contractors, Landscaping, Home Services   \n",
       "13         Contractors, Home Services, Local Services   \n",
       "64  Mobile Phones, Internet Service Providers, Mob...   \n",
       "72  Cabinetry, Home Services, Flooring, Self Stora...   \n",
       "\n",
       "                                                hours  \n",
       "4   {'Monday': '0:0-0:0', 'Tuesday': '9:0-16:0', '...  \n",
       "10  {'Monday': '7:0-17:0', 'Tuesday': '7:0-17:0', ...  \n",
       "13  {'Monday': '9:0-16:0', 'Tuesday': '9:0-16:0', ...  \n",
       "64  {'Monday': '10:0-21:0', 'Tuesday': '10:0-21:0'...  \n",
       "72  {'Monday': '8:0-18:0', 'Tuesday': '8:0-18:0', ...  "
      ]
     },
     "execution_count": 6,
     "metadata": {},
     "output_type": "execute_result"
    }
   ],
   "source": [
    "# home services businesses\n",
    "business_home = business_df[business_df['categories'].str.contains('Home Services', case=False, na=False)]\n",
    "print(business_home.shape)\n",
    "business_home.head()"
   ]
  },
  {
   "cell_type": "markdown",
   "metadata": {},
   "source": [
    "### Loading review data"
   ]
  },
  {
   "cell_type": "code",
   "execution_count": 7,
   "metadata": {},
   "outputs": [],
   "source": [
    "review_json_path = '{}/yelp_academic_dataset_review.json'.format(DATA_FOLDER)\n",
    "\n",
    "size = 1000000\n",
    "review = pd.read_json(review_json_path, lines=True,\n",
    "                      dtype={'review_id':str,'user_id':str,\n",
    "                             'business_id':str,'stars':int,\n",
    "                             'date':str,'text':str,'useful':int,\n",
    "                             'funny':int,'cool':int},\n",
    "                      chunksize=size)"
   ]
  },
  {
   "cell_type": "markdown",
   "metadata": {},
   "source": [
    "### Merging business and review data"
   ]
  },
  {
   "cell_type": "code",
   "execution_count": 8,
   "metadata": {},
   "outputs": [
    {
     "name": "stdout",
     "output_type": "stream",
     "text": [
      "39183 out of 1,000,000 related reviews\n",
      "41103 out of 1,000,000 related reviews\n",
      "39556 out of 1,000,000 related reviews\n",
      "44262 out of 1,000,000 related reviews\n",
      "39887 out of 1,000,000 related reviews\n",
      "42064 out of 1,000,000 related reviews\n",
      "42410 out of 1,000,000 related reviews\n",
      "44223 out of 1,000,000 related reviews\n",
      "1638 out of 1,000,000 related reviews\n"
     ]
    }
   ],
   "source": [
    "chunk_list = []\n",
    "for chunk_review in review:\n",
    "    # drop columns that aren't needed\n",
    "    # chunk_review = chunk_review.drop(['review_id','useful','funny','cool'], axis=1)\n",
    "    # renaming column name to avoid conflict with business overall star rating\n",
    "    chunk_review = chunk_review.rename(columns={'stars': 'review_stars'})\n",
    "    # inner merge with edited business file so only reviews related to the business remain\n",
    "    chunk_merged = pd.merge(business_home, chunk_review, on='business_id', how='inner')\n",
    "    # show feedback on progress\n",
    "    print(f'{chunk_merged.shape[0]} out of {size:,} related reviews')\n",
    "    chunk_list.append(chunk_merged)\n",
    "# after trimming down the review file, concatenate all relevant data back to one dataframe\n",
    "df = pd.concat(chunk_list, ignore_index=True, join='outer', axis=0)"
   ]
  },
  {
   "cell_type": "code",
   "execution_count": 9,
   "metadata": {},
   "outputs": [],
   "source": [
    "csv_name = 'yelp_dataset/yelp_reviews_home_categories.csv'\n",
    "df.to_csv(csv_name, index=False)"
   ]
  }
 ],
 "metadata": {
  "kernelspec": {
   "display_name": "Python 3",
   "language": "python",
   "name": "python3"
  },
  "language_info": {
   "codemirror_mode": {
    "name": "ipython",
    "version": 3
   },
   "file_extension": ".py",
   "mimetype": "text/x-python",
   "name": "python",
   "nbconvert_exporter": "python",
   "pygments_lexer": "ipython3",
   "version": "3.7.3"
  }
 },
 "nbformat": 4,
 "nbformat_minor": 2
}
